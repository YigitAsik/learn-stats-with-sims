{
 "cells": [
  {
   "cell_type": "markdown",
   "metadata": {},
   "source": [
    "### RANDOM WALK: Metropolis Algorithm"
   ]
  },
  {
   "cell_type": "code",
   "execution_count": 1,
   "metadata": {},
   "outputs": [],
   "source": [
    "import numpy as np\n",
    "import pandas as pd\n",
    "\n",
    "from matplotlib import pyplot as plt\n",
    "import seaborn as sns\n",
    "\n",
    "import statsmodels as sm\n",
    "import empiricaldist as emd\n",
    "import scipy.stats as st\n",
    "\n",
    "import random as rand\n",
    "\n",
    "import utils as ut\n",
    "\n",
    "import warnings\n",
    "\n",
    "warnings.filterwarnings('ignore')"
   ]
  },
  {
   "cell_type": "code",
   "execution_count": 2,
   "metadata": {},
   "outputs": [
    {
     "name": "stdout",
     "output_type": "stream",
     "text": [
      "[1, 2, 3, 4, 5, 6, 7] [10, 20, 30, 40, 50, 60, 70]\n"
     ]
    }
   ],
   "source": [
    "islands = [num for num in range(1, 8)]\n",
    "pops = [pop for pop in range(10, 71, 10)]\n",
    "\n",
    "print(islands, pops)"
   ]
  },
  {
   "cell_type": "code",
   "execution_count": 3,
   "metadata": {},
   "outputs": [],
   "source": [
    "island_dict = {}\n",
    "\n",
    "for idx, item in enumerate(pops):\n",
    "    island_dict[idx+1] = item"
   ]
  },
  {
   "cell_type": "code",
   "execution_count": 4,
   "metadata": {},
   "outputs": [
    {
     "data": {
      "text/plain": [
       "{1: 10, 2: 20, 3: 30, 4: 40, 5: 50, 6: 60, 7: 70}"
      ]
     },
     "execution_count": 4,
     "metadata": {},
     "output_type": "execute_result"
    }
   ],
   "source": [
    "island_dict"
   ]
  },
  {
   "cell_type": "code",
   "execution_count": 5,
   "metadata": {},
   "outputs": [],
   "source": [
    "initial_island = 4\n",
    "\n",
    "right_left = ['R', 'L']"
   ]
  },
  {
   "cell_type": "code",
   "execution_count": 6,
   "metadata": {},
   "outputs": [],
   "source": [
    "def walk(starting_island, loop):\n",
    "\n",
    "    stayed_islands = []\n",
    "    curr_island = starting_island\n",
    "\n",
    "    for iter in range(0, loop):\n",
    "        curr_island_pop = island_dict[curr_island]\n",
    "        step = rand.choice(right_left)\n",
    "\n",
    "        if step == 'R':\n",
    "\n",
    "            next_island = curr_island+1\n",
    "\n",
    "            if next_island == 8:\n",
    "                pass\n",
    "            else:\n",
    "                next_island_pop = island_dict[curr_island+1]\n",
    "\n",
    "                move_to = next_island\n",
    "                curr_island = move_to\n",
    "\n",
    "        elif step == 'L':\n",
    "\n",
    "            next_island = curr_island-1\n",
    "\n",
    "            if next_island == 0:\n",
    "                pass\n",
    "            else:\n",
    "                next_island_pop = island_dict[curr_island-1]\n",
    "\n",
    "                prop = next_island_pop / curr_island_pop\n",
    "                value = rand.random()\n",
    "\n",
    "                if value > prop:\n",
    "                    move_to = curr_island\n",
    "                    curr_island = move_to\n",
    "                \n",
    "                else:\n",
    "                    move_to = next_island\n",
    "                    curr_island = move_to\n",
    "        \n",
    "        stayed_islands.append(curr_island)\n",
    "    return stayed_islands"
   ]
  },
  {
   "cell_type": "code",
   "execution_count": 7,
   "metadata": {},
   "outputs": [
    {
     "data": {
      "text/plain": [
       "[5, 4, 3, 4, 3]"
      ]
     },
     "execution_count": 7,
     "metadata": {},
     "output_type": "execute_result"
    }
   ],
   "source": [
    "walks = walk(4, 10001)\n",
    "walks[:5]"
   ]
  },
  {
   "cell_type": "code",
   "execution_count": 8,
   "metadata": {},
   "outputs": [
    {
     "data": {
      "text/html": [
       "<div>\n",
       "<style scoped>\n",
       "    .dataframe tbody tr th:only-of-type {\n",
       "        vertical-align: middle;\n",
       "    }\n",
       "\n",
       "    .dataframe tbody tr th {\n",
       "        vertical-align: top;\n",
       "    }\n",
       "\n",
       "    .dataframe thead th {\n",
       "        text-align: right;\n",
       "    }\n",
       "</style>\n",
       "<table border=\"1\" class=\"dataframe\">\n",
       "  <thead>\n",
       "    <tr style=\"text-align: right;\">\n",
       "      <th></th>\n",
       "      <th>Islands</th>\n",
       "      <th>Days</th>\n",
       "    </tr>\n",
       "  </thead>\n",
       "  <tbody>\n",
       "    <tr>\n",
       "      <th>0</th>\n",
       "      <td>7</td>\n",
       "      <td>2335</td>\n",
       "    </tr>\n",
       "    <tr>\n",
       "      <th>1</th>\n",
       "      <td>6</td>\n",
       "      <td>2068</td>\n",
       "    </tr>\n",
       "    <tr>\n",
       "      <th>2</th>\n",
       "      <td>5</td>\n",
       "      <td>1834</td>\n",
       "    </tr>\n",
       "    <tr>\n",
       "      <th>3</th>\n",
       "      <td>4</td>\n",
       "      <td>1526</td>\n",
       "    </tr>\n",
       "    <tr>\n",
       "      <th>4</th>\n",
       "      <td>3</td>\n",
       "      <td>1139</td>\n",
       "    </tr>\n",
       "    <tr>\n",
       "      <th>5</th>\n",
       "      <td>2</td>\n",
       "      <td>733</td>\n",
       "    </tr>\n",
       "    <tr>\n",
       "      <th>6</th>\n",
       "      <td>1</td>\n",
       "      <td>366</td>\n",
       "    </tr>\n",
       "  </tbody>\n",
       "</table>\n",
       "</div>"
      ],
      "text/plain": [
       "   Islands  Days\n",
       "0        7  2335\n",
       "1        6  2068\n",
       "2        5  1834\n",
       "3        4  1526\n",
       "4        3  1139\n",
       "5        2   733\n",
       "6        1   366"
      ]
     },
     "execution_count": 8,
     "metadata": {},
     "output_type": "execute_result"
    }
   ],
   "source": [
    "df = pd.DataFrame(pd.Series(walks).value_counts().values.tolist(), pd.Series(walks).value_counts().index.tolist())\\\n",
    ".reset_index()\\\n",
    ".rename(columns={'index':'Islands',0:'Days'})\n",
    "\n",
    "df"
   ]
  },
  {
   "cell_type": "code",
   "execution_count": 9,
   "metadata": {},
   "outputs": [
    {
     "data": {
      "text/plain": [
       "Text(0, 0.5, 'Days Spent')"
      ]
     },
     "execution_count": 9,
     "metadata": {},
     "output_type": "execute_result"
    },
    {
     "data": {
      "image/png": "[encoded data removed]",
      "text/plain": [
       "<Figure size 600x400 with 1 Axes>"
      ]
     },
     "metadata": {},
     "output_type": "display_data"
    }
   ],
   "source": [
    "plt.figure(figsize=(6, 4))\n",
    "\n",
    "sns.barplot(x=df['Islands'], y=df['Days'])\n",
    "plt.ylabel('Days Spent')"
   ]
  },
  {
   "cell_type": "code",
   "execution_count": 10,
   "metadata": {},
   "outputs": [],
   "source": [
    "islands_hist = emd.Hist.from_seq(walks)"
   ]
  },
  {
   "cell_type": "code",
   "execution_count": 11,
   "metadata": {},
   "outputs": [],
   "source": [
    "islands_pmf = emd.Pmf.from_seq(walks)"
   ]
  },
  {
   "cell_type": "code",
   "execution_count": 12,
   "metadata": {},
   "outputs": [
    {
     "data": {
      "text/plain": [
       "Text(0.5, 1.0, 'Relative Time Spent on Each Island')"
      ]
     },
     "execution_count": 12,
     "metadata": {},
     "output_type": "execute_result"
    },
    {
     "data": {
      "image/png": "[encoded data removed]",
      "text/plain": [
       "<Figure size 600x400 with 1 Axes>"
      ]
     },
     "metadata": {},
     "output_type": "display_data"
    }
   ],
   "source": [
    "plt.figure(figsize=(6,4))\n",
    "\n",
    "plt.bar(islands_pmf.qs, islands_pmf.ps)\n",
    "\n",
    "plt.xlabel('Islands', fontsize=9)\n",
    "plt.ylabel('PMF', fontsize=9)\n",
    "plt.title('Relative Time Spent on Each Island', fontsize=11)"
   ]
  }
 ],
 "metadata": {
  "kernelspec": {
   "display_name": "pymc_env",
   "language": "python",
   "name": "python3"
  },
  "language_info": {
   "codemirror_mode": {
    "name": "ipython",
    "version": 3
   },
   "file_extension": ".py",
   "mimetype": "text/x-python",
   "name": "python",
   "nbconvert_exporter": "python",
   "pygments_lexer": "ipython3",
   "version": "3.12.8"
  }
 },
 "nbformat": 4,
 "nbformat_minor": 2
}
